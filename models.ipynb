{
 "cells": [
  {
   "cell_type": "code",
   "execution_count": 2,
   "source": [
    "# warnings.filterwarnings('ignore')\n",
    "import pandas as pd\n",
    "import psycopg2\n",
    "import numpy as np\n",
    "import seaborn as sns\n",
    "import warnings\n",
    "import random\n",
    "pd.options.display.float_format = '{:.3f}'.format\n",
    "\n",
    "conn = psycopg2.connect(\n",
    "    host=\"tiny.db.elephantsql.com\",\n",
    "    database=\"wvhwwxaj\",\n",
    "    user=\"wvhwwxaj\",\n",
    "    password=\"nuuVmVsPvLq8QxO4UJL7erelfFgLDoEe\")\n",
    "\n",
    "cur = conn.cursor()\n",
    "\n",
    "sql = \"SELECT * FROM boardgamegeek\"\n",
    "cur.execute(sql)\n",
    "data = cur.fetchall()\n",
    "\n",
    "cur.close()\n",
    "conn.close()"
   ],
   "outputs": [],
   "metadata": {}
  },
  {
   "cell_type": "code",
   "execution_count": 10,
   "source": [
    "#save data into \"df_origin\" as dataframe\n",
    "df_origin = pd.DataFrame(data, columns=[\"id\",\"thumbnail\",\"image\",\"game\",\"description\",\"yearpublished\",\"minplayers\",\"maxplayers\",\"playingtime\",\"minplaytime\",\n",
    "    \"maxplaytime\",\"minage\",\"boardgamecategory\",\"usersrated\",\"average\",\"bayesaverage\",\"rank\",\"averageweight\"])"
   ],
   "outputs": [],
   "metadata": {}
  },
  {
   "cell_type": "code",
   "execution_count": null,
   "source": [
    "#copy for the modeling dataset\n",
    "df = df_origin.copy()\n",
    "#delete column\"index, id, thumbnail, image, description, playingtime, usersrated, average, bayesaverage, rank, \"\n",
    "df = df.drop([\"id\", \"thumbnail\", \"image\", \"description\",\"playingtime\", \"usersrated\", \"average\", \"bayesaverage\", \"rank\"], axis = 1)"
   ],
   "outputs": [],
   "metadata": {}
  },
  {
   "cell_type": "code",
   "execution_count": null,
   "source": [
    "#build new column 'category' for machine learning\n",
    "df[\"category\"] = None\n",
    "for i in range(0,len(df)):\n",
    "  temp_list = df[\"boardgamecategory\"][i].strip(\"[ ]\").replace(\"'\",\"\").split(\", \")\n",
    "  df[\"category\"][i] = temp_list[random.randint(0,len(temp_list)-1)]\n",
    "\n",
    "#delete useless column\n",
    "df = df.drop([\"boardgamecategory\"], axis = 1)"
   ],
   "outputs": [],
   "metadata": {}
  },
  {
   "cell_type": "code",
   "execution_count": null,
   "source": [
    "#seperate data into two parts: target or nontarget\n",
    "X = df.drop(columns=\"game\")\n",
    "y = df[\"game\"]"
   ],
   "outputs": [],
   "metadata": {}
  },
  {
   "cell_type": "code",
   "execution_count": null,
   "source": [
    "!pip install category_encoders"
   ],
   "outputs": [],
   "metadata": {}
  },
  {
   "cell_type": "code",
   "execution_count": null,
   "source": [
    "#using pipeline transforming the dataset for the future modeling\n",
    "from sklearn.pipeline import make_pipeline\n",
    "from category_encoders import OrdinalEncoder\n",
    "from sklearn.impute import SimpleImputer\n",
    "from sklearn.ensemble import RandomForestClassifier\n",
    "\n",
    "pipe = make_pipeline(\n",
    "    OrdinalEncoder(handle_missing=\"value\"), \n",
    "    SimpleImputer(), \n",
    "    RandomForestClassifier()\n",
    ")\n",
    "\n",
    "pipe.fit(X, y)"
   ],
   "outputs": [],
   "metadata": {}
  },
  {
   "cell_type": "code",
   "execution_count": null,
   "source": [
    "X_test = {'yearpublished': [2010],\n",
    "          'minplayers': [2],\n",
    "          'maxplayers': [4],\n",
    "          'minplaytime': [30],\n",
    "          'maxplaytime': [60],\n",
    "          'minage': [8],\n",
    "          'averageweight' : [4.0],\n",
    "          'category' : [\"Card Game\"]\n",
    "          }\n",
    "X_test = pd.DataFrame(X_test)\n",
    "X_test"
   ],
   "outputs": [],
   "metadata": {}
  },
  {
   "cell_type": "code",
   "execution_count": null,
   "source": [
    "pipe.predict(X_test)"
   ],
   "outputs": [],
   "metadata": {}
  },
  {
   "cell_type": "code",
   "execution_count": null,
   "source": [],
   "outputs": [],
   "metadata": {}
  }
 ],
 "metadata": {
  "orig_nbformat": 4,
  "language_info": {
   "name": "python",
   "version": "3.8.13",
   "mimetype": "text/x-python",
   "codemirror_mode": {
    "name": "ipython",
    "version": 3
   },
   "pygments_lexer": "ipython3",
   "nbconvert_exporter": "python",
   "file_extension": ".py"
  },
  "kernelspec": {
   "name": "python3",
   "display_name": "Python 3.8.13 64-bit ('project3': conda)"
  },
  "interpreter": {
   "hash": "b84f87aca855aac092cc944a1defab060a8829d3691e3d88bb2c55129a822ada"
  }
 },
 "nbformat": 4,
 "nbformat_minor": 2
}